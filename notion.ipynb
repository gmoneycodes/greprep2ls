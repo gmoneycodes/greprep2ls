{
 "cells": [
  {
   "cell_type": "code",
   "execution_count": 1,
   "id": "initial_id",
   "metadata": {
    "collapsed": true,
    "ExecuteTime": {
     "end_time": "2023-12-08T19:01:12.789879Z",
     "start_time": "2023-12-08T19:01:12.646184Z"
    }
   },
   "outputs": [
    {
     "data": {
      "text/plain": "True"
     },
     "execution_count": 1,
     "metadata": {},
     "output_type": "execute_result"
    }
   ],
   "source": [
    "import re\n",
    "\n",
    "from notion_client import Client\n",
    "import os\n",
    "from dotenv import load_dotenv\n",
    "from utils import link2id, clean_latex\n",
    "import pprint\n",
    "from rich import print as prettyprint\n",
    "import uuid\n",
    "load_dotenv()"
   ]
  },
  {
   "cell_type": "code",
   "execution_count": 2,
   "outputs": [],
   "source": [
    "api_key = os.getenv('NOTION_KEY')\n",
    "\n",
    "def fetch_notion_data(token, id):\n",
    "    notion = Client(auth=token)\n",
    "    page_data = notion.blocks.children.list(block_id=id)\n",
    "    return page_data"
   ],
   "metadata": {
    "collapsed": false,
    "ExecuteTime": {
     "end_time": "2023-12-08T19:01:12.790178Z",
     "start_time": "2023-12-08T19:01:12.778184Z"
    }
   },
   "id": "1047058640714aab"
  },
  {
   "cell_type": "code",
   "execution_count": 3,
   "outputs": [],
   "source": [
    "link = \"https://www.notion.so/ruyoga/testing-9dc1cff1b6e14172ab35cb42a1b4bfda?pvs=4\"\n",
    "id = link2id(link)\n",
    "\n",
    "page_data = fetch_notion_data(api_key, id)"
   ],
   "metadata": {
    "collapsed": false,
    "ExecuteTime": {
     "end_time": "2023-12-08T19:01:13.170699Z",
     "start_time": "2023-12-08T19:01:12.781958Z"
    }
   },
   "id": "35f37fdafe698de9"
  },
  {
   "cell_type": "code",
   "execution_count": 4,
   "outputs": [],
   "source": [
    "def generate_block_id():\n",
    "    return uuid.uuid4()"
   ],
   "metadata": {
    "collapsed": false,
    "ExecuteTime": {
     "end_time": "2023-12-08T19:01:13.179452Z",
     "start_time": "2023-12-08T19:01:13.173695Z"
    }
   },
   "id": "24bcf573b734223e"
  },
  {
   "cell_type": "code",
   "execution_count": 5,
   "outputs": [],
   "source": [
    "def get_append_endpoint(id):\n",
    "    \"\"\"\n",
    "    :param id: if im not mistaken you could also put the id of the page \n",
    "    :return: \n",
    "    \"\"\"\n",
    "    return f\"https://api.notion.com/v1/blocks/{id}/children\""
   ],
   "metadata": {
    "collapsed": false,
    "ExecuteTime": {
     "end_time": "2023-12-08T19:01:13.186680Z",
     "start_time": "2023-12-08T19:01:13.179367Z"
    }
   },
   "id": "cb00088a506df8a0"
  },
  {
   "cell_type": "code",
   "execution_count": 6,
   "outputs": [
    {
     "name": "stdout",
     "output_type": "stream",
     "text": [
      "{'object': 'list', 'results': [{'object': 'block', 'id': '779fbe78-4429-4373-b647-2471f439c22a', 'type': 'paragraph', 'paragraph': {'text': [{'type': 'text', 'text': {'content': '\\nGiven an uniformly-distributed random variable  X  that takes only integers from  a  to  b  inclusive and', 'link': None}}]}}, {'object': 'block', 'id': '307c0c5f-c579-46e8-964e-e2f596713b92', 'type': 'paragraph', 'paragraph': {'text': [{'type': 'text', 'text': {'content': ' P(3 \\\\leq X \\\\leq 7) = \\\\frac{1}{21} ', 'link': None}}]}}, {'object': 'block', 'id': '18d64c96-7eaa-4ea4-8ff1-094b070551c5', 'type': 'paragraph', 'paragraph': {'text': [{'type': 'text', 'text': {'content': ' P(0 \\\\leq X \\\\leq 5) = \\\\frac{1}{35} ', 'link': None}}]}}, {'object': 'block', 'id': '68dc8e4a-aaa0-450b-be5a-fca262268641', 'type': 'paragraph', 'paragraph': {'text': [{'type': 'text', 'text': {'content': 'What is  P(90 \\\\leq X \\\\leq 110) , if  a \\\\leq 3  and  b \\\\geq 10 ?\\n', 'link': None}}]}}], 'next_cursor': None, 'has_more': False, 'type': 'block', 'block': {}, 'request_id': '1b3e3980-a769-4dcb-a27a-b31543fadea5'}\n"
     ]
    }
   ],
   "source": [
    "import uuid\n",
    "import re\n",
    "\n",
    "def generate_block_id():\n",
    "    return str(uuid.uuid4())\n",
    "\n",
    "def parse_to_notion_blocks(text):\n",
    "    blocks = []\n",
    "    square_re = r'\\\\\\[(.*?)\\\\\\]'\n",
    "    parentheses_re = r'\\\\\\((.*?)\\\\\\)'\n",
    "\n",
    "    # Split the string into paragraphs\n",
    "    paragraphs = text.split('\\n\\n')\n",
    "    for paragraph in paragraphs:\n",
    "        # Check if the paragraph is a standalone equation\n",
    "        if re.fullmatch(square_re, paragraph.strip()) or re.fullmatch(parentheses_re, paragraph.strip()):\n",
    "            blocks.append(create_equation_block(paragraph.strip()[2:-2]))\n",
    "        else:\n",
    "            # Split the paragraph into text and inline equations\n",
    "            parts = re.split(parentheses_re, paragraph)\n",
    "            for part in parts:\n",
    "                if part:\n",
    "                    if re.fullmatch(square_re, part) or re.fullmatch(parentheses_re):\n",
    "                        blocks.extend(create_equation_inline(part[2:-2]))\n",
    "                    else:\n",
    "                        blocks.extend(create_text_block(part))\n",
    "\n",
    "    return {\n",
    "        'object': 'list',\n",
    "        'results': blocks,\n",
    "        'next_cursor': None,\n",
    "        'has_more': False,\n",
    "        'type': 'block',\n",
    "        'block': {},\n",
    "        'request_id': generate_block_id()\n",
    "    }\n",
    "\n",
    "def create_text_block(content):\n",
    "    if content.strip() == \"\":\n",
    "        return []\n",
    "    return [{\n",
    "        'object': 'block',\n",
    "        'id': generate_block_id(),\n",
    "        'type': 'paragraph',\n",
    "        'paragraph': {\n",
    "            'text': [{\n",
    "                'type': 'text',\n",
    "                'text': {\n",
    "                    'content': clean_latex(content),\n",
    "                    'link': None\n",
    "                }\n",
    "            }]\n",
    "        }\n",
    "    }]\n",
    "\n",
    "def create_equation_inline(expression):\n",
    "    return [{\n",
    "        'object': 'block',\n",
    "        'id': generate_block_id(),\n",
    "        'type': 'equation',\n",
    "        'equation': {\n",
    "            'expression': clean_latex(expression)\n",
    "        }\n",
    "    }]\n",
    "\n",
    "def create_equation_block(expression):\n",
    "    return {\n",
    "        'object': 'block',\n",
    "        'id': generate_block_id(),\n",
    "        'type': 'equation',\n",
    "        'equation': {\n",
    "            'expression': clean_latex(expression)\n",
    "        }\n",
    "    }\n",
    "\n",
    "# Example usage\n",
    "input_text = r\"\"\"\n",
    "Given an uniformly-distributed random variable \\( X \\) that takes only integers from \\( a \\) to \\( b \\) inclusive and\n",
    "\n",
    "\\[ P(3 \\leq X \\leq 7) = \\frac{1}{21} \\]\n",
    "\n",
    "\\[ P(0 \\leq X \\leq 5) = \\frac{1}{35} \\]\n",
    "\n",
    "What is \\( P(90 \\leq X \\leq 110) \\), if \\( a \\leq 3 \\) and \\( b \\geq 10 \\)?\n",
    "\"\"\"\n",
    "\n",
    "notion_json = parse_to_notion_blocks(input_text)\n",
    "print(notion_json)"
   ],
   "metadata": {
    "collapsed": false,
    "ExecuteTime": {
     "end_time": "2023-12-08T19:01:13.196169Z",
     "start_time": "2023-12-08T19:01:13.187332Z"
    }
   },
   "id": "754a9f8b210694d2"
  },
  {
   "cell_type": "code",
   "execution_count": 7,
   "outputs": [
    {
     "data": {
      "text/plain": "\u001B[1m{\u001B[0m\n    \u001B[32m'object'\u001B[0m: \u001B[32m'list'\u001B[0m,\n    \u001B[32m'results'\u001B[0m: \u001B[1m[\u001B[0m\n        \u001B[1m{\u001B[0m\n            \u001B[32m'object'\u001B[0m: \u001B[32m'block'\u001B[0m,\n            \u001B[32m'id'\u001B[0m: \u001B[32m'779fbe78-4429-4373-b647-2471f439c22a'\u001B[0m,\n            \u001B[32m'type'\u001B[0m: \u001B[32m'paragraph'\u001B[0m,\n            \u001B[32m'paragraph'\u001B[0m: \u001B[1m{\u001B[0m\n                \u001B[32m'text'\u001B[0m: \u001B[1m[\u001B[0m\n                    \u001B[1m{\u001B[0m\n                        \u001B[32m'type'\u001B[0m: \u001B[32m'text'\u001B[0m,\n                        \u001B[32m'text'\u001B[0m: \u001B[1m{\u001B[0m\n                            \u001B[32m'content'\u001B[0m: \u001B[32m'\\nGiven an uniformly-distributed random variable  X  that takes only \u001B[0m\n\u001B[32mintegers from  a  to  b  inclusive and'\u001B[0m,\n                            \u001B[32m'link'\u001B[0m: \u001B[3;35mNone\u001B[0m\n                        \u001B[1m}\u001B[0m\n                    \u001B[1m}\u001B[0m\n                \u001B[1m]\u001B[0m\n            \u001B[1m}\u001B[0m\n        \u001B[1m}\u001B[0m,\n        \u001B[1m{\u001B[0m\n            \u001B[32m'object'\u001B[0m: \u001B[32m'block'\u001B[0m,\n            \u001B[32m'id'\u001B[0m: \u001B[32m'307c0c5f-c579-46e8-964e-e2f596713b92'\u001B[0m,\n            \u001B[32m'type'\u001B[0m: \u001B[32m'paragraph'\u001B[0m,\n            \u001B[32m'paragraph'\u001B[0m: \u001B[1m{\u001B[0m\n                \u001B[32m'text'\u001B[0m: \u001B[1m[\u001B[0m\n                    \u001B[1m{\u001B[0m\u001B[32m'type'\u001B[0m: \u001B[32m'text'\u001B[0m, \u001B[32m'text'\u001B[0m: \u001B[1m{\u001B[0m\u001B[32m'content'\u001B[0m: \u001B[32m' P\u001B[0m\u001B[32m(\u001B[0m\u001B[32m3 \\\\leq X \\\\leq 7\u001B[0m\u001B[32m)\u001B[0m\u001B[32m = \\\\frac\u001B[0m\u001B[32m{\u001B[0m\u001B[32m1\u001B[0m\u001B[32m}\u001B[0m\u001B[32m{\u001B[0m\u001B[32m21\u001B[0m\u001B[32m}\u001B[0m\u001B[32m '\u001B[0m, \u001B[32m'link'\u001B[0m: \u001B[3;35mNone\u001B[0m\u001B[1m}\u001B[0m\u001B[1m}\u001B[0m\n                \u001B[1m]\u001B[0m\n            \u001B[1m}\u001B[0m\n        \u001B[1m}\u001B[0m,\n        \u001B[1m{\u001B[0m\n            \u001B[32m'object'\u001B[0m: \u001B[32m'block'\u001B[0m,\n            \u001B[32m'id'\u001B[0m: \u001B[32m'18d64c96-7eaa-4ea4-8ff1-094b070551c5'\u001B[0m,\n            \u001B[32m'type'\u001B[0m: \u001B[32m'paragraph'\u001B[0m,\n            \u001B[32m'paragraph'\u001B[0m: \u001B[1m{\u001B[0m\n                \u001B[32m'text'\u001B[0m: \u001B[1m[\u001B[0m\n                    \u001B[1m{\u001B[0m\u001B[32m'type'\u001B[0m: \u001B[32m'text'\u001B[0m, \u001B[32m'text'\u001B[0m: \u001B[1m{\u001B[0m\u001B[32m'content'\u001B[0m: \u001B[32m' P\u001B[0m\u001B[32m(\u001B[0m\u001B[32m0 \\\\leq X \\\\leq 5\u001B[0m\u001B[32m)\u001B[0m\u001B[32m = \\\\frac\u001B[0m\u001B[32m{\u001B[0m\u001B[32m1\u001B[0m\u001B[32m}\u001B[0m\u001B[32m{\u001B[0m\u001B[32m35\u001B[0m\u001B[32m}\u001B[0m\u001B[32m '\u001B[0m, \u001B[32m'link'\u001B[0m: \u001B[3;35mNone\u001B[0m\u001B[1m}\u001B[0m\u001B[1m}\u001B[0m\n                \u001B[1m]\u001B[0m\n            \u001B[1m}\u001B[0m\n        \u001B[1m}\u001B[0m,\n        \u001B[1m{\u001B[0m\n            \u001B[32m'object'\u001B[0m: \u001B[32m'block'\u001B[0m,\n            \u001B[32m'id'\u001B[0m: \u001B[32m'68dc8e4a-aaa0-450b-be5a-fca262268641'\u001B[0m,\n            \u001B[32m'type'\u001B[0m: \u001B[32m'paragraph'\u001B[0m,\n            \u001B[32m'paragraph'\u001B[0m: \u001B[1m{\u001B[0m\n                \u001B[32m'text'\u001B[0m: \u001B[1m[\u001B[0m\n                    \u001B[1m{\u001B[0m\n                        \u001B[32m'type'\u001B[0m: \u001B[32m'text'\u001B[0m,\n                        \u001B[32m'text'\u001B[0m: \u001B[1m{\u001B[0m\n                            \u001B[32m'content'\u001B[0m: \u001B[32m'What is  P\u001B[0m\u001B[32m(\u001B[0m\u001B[32m90 \\\\leq X \\\\leq 110\u001B[0m\u001B[32m)\u001B[0m\u001B[32m , if  a \\\\leq 3  and  b \\\\geq 10 ?\\n'\u001B[0m,\n                            \u001B[32m'link'\u001B[0m: \u001B[3;35mNone\u001B[0m\n                        \u001B[1m}\u001B[0m\n                    \u001B[1m}\u001B[0m\n                \u001B[1m]\u001B[0m\n            \u001B[1m}\u001B[0m\n        \u001B[1m}\u001B[0m\n    \u001B[1m]\u001B[0m,\n    \u001B[32m'next_cursor'\u001B[0m: \u001B[3;35mNone\u001B[0m,\n    \u001B[32m'has_more'\u001B[0m: \u001B[3;91mFalse\u001B[0m,\n    \u001B[32m'type'\u001B[0m: \u001B[32m'block'\u001B[0m,\n    \u001B[32m'block'\u001B[0m: \u001B[1m{\u001B[0m\u001B[1m}\u001B[0m,\n    \u001B[32m'request_id'\u001B[0m: \u001B[32m'1b3e3980-a769-4dcb-a27a-b31543fadea5'\u001B[0m\n\u001B[1m}\u001B[0m\n",
      "text/html": "<pre style=\"white-space:pre;overflow-x:auto;line-height:normal;font-family:Menlo,'DejaVu Sans Mono',consolas,'Courier New',monospace\"><span style=\"font-weight: bold\">{</span>\n    <span style=\"color: #008000; text-decoration-color: #008000\">'object'</span>: <span style=\"color: #008000; text-decoration-color: #008000\">'list'</span>,\n    <span style=\"color: #008000; text-decoration-color: #008000\">'results'</span>: <span style=\"font-weight: bold\">[</span>\n        <span style=\"font-weight: bold\">{</span>\n            <span style=\"color: #008000; text-decoration-color: #008000\">'object'</span>: <span style=\"color: #008000; text-decoration-color: #008000\">'block'</span>,\n            <span style=\"color: #008000; text-decoration-color: #008000\">'id'</span>: <span style=\"color: #008000; text-decoration-color: #008000\">'779fbe78-4429-4373-b647-2471f439c22a'</span>,\n            <span style=\"color: #008000; text-decoration-color: #008000\">'type'</span>: <span style=\"color: #008000; text-decoration-color: #008000\">'paragraph'</span>,\n            <span style=\"color: #008000; text-decoration-color: #008000\">'paragraph'</span>: <span style=\"font-weight: bold\">{</span>\n                <span style=\"color: #008000; text-decoration-color: #008000\">'text'</span>: <span style=\"font-weight: bold\">[</span>\n                    <span style=\"font-weight: bold\">{</span>\n                        <span style=\"color: #008000; text-decoration-color: #008000\">'type'</span>: <span style=\"color: #008000; text-decoration-color: #008000\">'text'</span>,\n                        <span style=\"color: #008000; text-decoration-color: #008000\">'text'</span>: <span style=\"font-weight: bold\">{</span>\n                            <span style=\"color: #008000; text-decoration-color: #008000\">'content'</span>: <span style=\"color: #008000; text-decoration-color: #008000\">'\\nGiven an uniformly-distributed random variable  X  that takes only </span>\n<span style=\"color: #008000; text-decoration-color: #008000\">integers from  a  to  b  inclusive and'</span>,\n                            <span style=\"color: #008000; text-decoration-color: #008000\">'link'</span>: <span style=\"color: #800080; text-decoration-color: #800080; font-style: italic\">None</span>\n                        <span style=\"font-weight: bold\">}</span>\n                    <span style=\"font-weight: bold\">}</span>\n                <span style=\"font-weight: bold\">]</span>\n            <span style=\"font-weight: bold\">}</span>\n        <span style=\"font-weight: bold\">}</span>,\n        <span style=\"font-weight: bold\">{</span>\n            <span style=\"color: #008000; text-decoration-color: #008000\">'object'</span>: <span style=\"color: #008000; text-decoration-color: #008000\">'block'</span>,\n            <span style=\"color: #008000; text-decoration-color: #008000\">'id'</span>: <span style=\"color: #008000; text-decoration-color: #008000\">'307c0c5f-c579-46e8-964e-e2f596713b92'</span>,\n            <span style=\"color: #008000; text-decoration-color: #008000\">'type'</span>: <span style=\"color: #008000; text-decoration-color: #008000\">'paragraph'</span>,\n            <span style=\"color: #008000; text-decoration-color: #008000\">'paragraph'</span>: <span style=\"font-weight: bold\">{</span>\n                <span style=\"color: #008000; text-decoration-color: #008000\">'text'</span>: <span style=\"font-weight: bold\">[</span>\n                    <span style=\"font-weight: bold\">{</span><span style=\"color: #008000; text-decoration-color: #008000\">'type'</span>: <span style=\"color: #008000; text-decoration-color: #008000\">'text'</span>, <span style=\"color: #008000; text-decoration-color: #008000\">'text'</span>: <span style=\"font-weight: bold\">{</span><span style=\"color: #008000; text-decoration-color: #008000\">'content'</span>: <span style=\"color: #008000; text-decoration-color: #008000\">' P(3 \\\\leq X \\\\leq 7) = \\\\frac{1}{21} '</span>, <span style=\"color: #008000; text-decoration-color: #008000\">'link'</span>: <span style=\"color: #800080; text-decoration-color: #800080; font-style: italic\">None</span><span style=\"font-weight: bold\">}}</span>\n                <span style=\"font-weight: bold\">]</span>\n            <span style=\"font-weight: bold\">}</span>\n        <span style=\"font-weight: bold\">}</span>,\n        <span style=\"font-weight: bold\">{</span>\n            <span style=\"color: #008000; text-decoration-color: #008000\">'object'</span>: <span style=\"color: #008000; text-decoration-color: #008000\">'block'</span>,\n            <span style=\"color: #008000; text-decoration-color: #008000\">'id'</span>: <span style=\"color: #008000; text-decoration-color: #008000\">'18d64c96-7eaa-4ea4-8ff1-094b070551c5'</span>,\n            <span style=\"color: #008000; text-decoration-color: #008000\">'type'</span>: <span style=\"color: #008000; text-decoration-color: #008000\">'paragraph'</span>,\n            <span style=\"color: #008000; text-decoration-color: #008000\">'paragraph'</span>: <span style=\"font-weight: bold\">{</span>\n                <span style=\"color: #008000; text-decoration-color: #008000\">'text'</span>: <span style=\"font-weight: bold\">[</span>\n                    <span style=\"font-weight: bold\">{</span><span style=\"color: #008000; text-decoration-color: #008000\">'type'</span>: <span style=\"color: #008000; text-decoration-color: #008000\">'text'</span>, <span style=\"color: #008000; text-decoration-color: #008000\">'text'</span>: <span style=\"font-weight: bold\">{</span><span style=\"color: #008000; text-decoration-color: #008000\">'content'</span>: <span style=\"color: #008000; text-decoration-color: #008000\">' P(0 \\\\leq X \\\\leq 5) = \\\\frac{1}{35} '</span>, <span style=\"color: #008000; text-decoration-color: #008000\">'link'</span>: <span style=\"color: #800080; text-decoration-color: #800080; font-style: italic\">None</span><span style=\"font-weight: bold\">}}</span>\n                <span style=\"font-weight: bold\">]</span>\n            <span style=\"font-weight: bold\">}</span>\n        <span style=\"font-weight: bold\">}</span>,\n        <span style=\"font-weight: bold\">{</span>\n            <span style=\"color: #008000; text-decoration-color: #008000\">'object'</span>: <span style=\"color: #008000; text-decoration-color: #008000\">'block'</span>,\n            <span style=\"color: #008000; text-decoration-color: #008000\">'id'</span>: <span style=\"color: #008000; text-decoration-color: #008000\">'68dc8e4a-aaa0-450b-be5a-fca262268641'</span>,\n            <span style=\"color: #008000; text-decoration-color: #008000\">'type'</span>: <span style=\"color: #008000; text-decoration-color: #008000\">'paragraph'</span>,\n            <span style=\"color: #008000; text-decoration-color: #008000\">'paragraph'</span>: <span style=\"font-weight: bold\">{</span>\n                <span style=\"color: #008000; text-decoration-color: #008000\">'text'</span>: <span style=\"font-weight: bold\">[</span>\n                    <span style=\"font-weight: bold\">{</span>\n                        <span style=\"color: #008000; text-decoration-color: #008000\">'type'</span>: <span style=\"color: #008000; text-decoration-color: #008000\">'text'</span>,\n                        <span style=\"color: #008000; text-decoration-color: #008000\">'text'</span>: <span style=\"font-weight: bold\">{</span>\n                            <span style=\"color: #008000; text-decoration-color: #008000\">'content'</span>: <span style=\"color: #008000; text-decoration-color: #008000\">'What is  P(90 \\\\leq X \\\\leq 110) , if  a \\\\leq 3  and  b \\\\geq 10 ?\\n'</span>,\n                            <span style=\"color: #008000; text-decoration-color: #008000\">'link'</span>: <span style=\"color: #800080; text-decoration-color: #800080; font-style: italic\">None</span>\n                        <span style=\"font-weight: bold\">}</span>\n                    <span style=\"font-weight: bold\">}</span>\n                <span style=\"font-weight: bold\">]</span>\n            <span style=\"font-weight: bold\">}</span>\n        <span style=\"font-weight: bold\">}</span>\n    <span style=\"font-weight: bold\">]</span>,\n    <span style=\"color: #008000; text-decoration-color: #008000\">'next_cursor'</span>: <span style=\"color: #800080; text-decoration-color: #800080; font-style: italic\">None</span>,\n    <span style=\"color: #008000; text-decoration-color: #008000\">'has_more'</span>: <span style=\"color: #ff0000; text-decoration-color: #ff0000; font-style: italic\">False</span>,\n    <span style=\"color: #008000; text-decoration-color: #008000\">'type'</span>: <span style=\"color: #008000; text-decoration-color: #008000\">'block'</span>,\n    <span style=\"color: #008000; text-decoration-color: #008000\">'block'</span>: <span style=\"font-weight: bold\">{}</span>,\n    <span style=\"color: #008000; text-decoration-color: #008000\">'request_id'</span>: <span style=\"color: #008000; text-decoration-color: #008000\">'1b3e3980-a769-4dcb-a27a-b31543fadea5'</span>\n<span style=\"font-weight: bold\">}</span>\n</pre>\n"
     },
     "metadata": {},
     "output_type": "display_data"
    }
   ],
   "source": [
    "prettyprint(notion_json)"
   ],
   "metadata": {
    "collapsed": false,
    "ExecuteTime": {
     "end_time": "2023-12-08T19:01:13.244756Z",
     "start_time": "2023-12-08T19:01:13.193511Z"
    }
   },
   "id": "891e58ead52e36ef"
  },
  {
   "cell_type": "code",
   "execution_count": 8,
   "outputs": [],
   "source": [
    "test_input = r\"\"\"\n",
    "\n",
    "Given an uniformly-distributed random variable \\( X \\) that takes only integers from \\( a \\) to \\( b \\) inclusive and\n",
    "\n",
    "\\[ P(3 \\leq X \\leq 7) = \\frac{1}{21} \\]\n",
    "\n",
    "\\[ P(0 \\leq X \\leq 5) = \\frac{1}{35} \\]\n",
    "\n",
    "What is \\( P(90 \\leq X \\leq 110) \\), if \\( a \\leq 3 \\) and \\( b \\geq 10 \\)?\n",
    "\n",
    "\"\"\""
   ],
   "metadata": {
    "collapsed": false,
    "ExecuteTime": {
     "end_time": "2023-12-08T19:01:13.249810Z",
     "start_time": "2023-12-08T19:01:13.245189Z"
    }
   },
   "id": "36c699a941a85158"
  },
  {
   "cell_type": "code",
   "execution_count": 9,
   "outputs": [],
   "source": [
    "test_output = parse_to_notion_blocks(test_input)"
   ],
   "metadata": {
    "collapsed": false,
    "ExecuteTime": {
     "end_time": "2023-12-08T19:01:13.250127Z",
     "start_time": "2023-12-08T19:01:13.247593Z"
    }
   },
   "id": "c85c1ce5f47b4092"
  },
  {
   "cell_type": "code",
   "execution_count": 10,
   "outputs": [
    {
     "data": {
      "text/plain": "\u001B[1m{\u001B[0m\n    \u001B[32m'object'\u001B[0m: \u001B[32m'list'\u001B[0m,\n    \u001B[32m'results'\u001B[0m: \u001B[1m[\u001B[0m\n        \u001B[1m{\u001B[0m\n            \u001B[32m'object'\u001B[0m: \u001B[32m'block'\u001B[0m,\n            \u001B[32m'id'\u001B[0m: \u001B[32m'caf895c8-c73c-4e25-8a42-087b37630a2c'\u001B[0m,\n            \u001B[32m'type'\u001B[0m: \u001B[32m'paragraph'\u001B[0m,\n            \u001B[32m'paragraph'\u001B[0m: \u001B[1m{\u001B[0m\n                \u001B[32m'text'\u001B[0m: \u001B[1m[\u001B[0m\n                    \u001B[1m{\u001B[0m\n                        \u001B[32m'type'\u001B[0m: \u001B[32m'text'\u001B[0m,\n                        \u001B[32m'text'\u001B[0m: \u001B[1m{\u001B[0m\n                            \u001B[32m'content'\u001B[0m: \u001B[32m'Given an uniformly-distributed random variable  X  that takes only integers\u001B[0m\n\u001B[32mfrom  a  to  b  inclusive and'\u001B[0m,\n                            \u001B[32m'link'\u001B[0m: \u001B[3;35mNone\u001B[0m\n                        \u001B[1m}\u001B[0m\n                    \u001B[1m}\u001B[0m\n                \u001B[1m]\u001B[0m\n            \u001B[1m}\u001B[0m\n        \u001B[1m}\u001B[0m,\n        \u001B[1m{\u001B[0m\n            \u001B[32m'object'\u001B[0m: \u001B[32m'block'\u001B[0m,\n            \u001B[32m'id'\u001B[0m: \u001B[32m'c5df8a8f-cd4b-4c82-a829-143d85353ece'\u001B[0m,\n            \u001B[32m'type'\u001B[0m: \u001B[32m'paragraph'\u001B[0m,\n            \u001B[32m'paragraph'\u001B[0m: \u001B[1m{\u001B[0m\n                \u001B[32m'text'\u001B[0m: \u001B[1m[\u001B[0m\n                    \u001B[1m{\u001B[0m\u001B[32m'type'\u001B[0m: \u001B[32m'text'\u001B[0m, \u001B[32m'text'\u001B[0m: \u001B[1m{\u001B[0m\u001B[32m'content'\u001B[0m: \u001B[32m' P\u001B[0m\u001B[32m(\u001B[0m\u001B[32m3 \\\\leq X \\\\leq 7\u001B[0m\u001B[32m)\u001B[0m\u001B[32m = \\\\frac\u001B[0m\u001B[32m{\u001B[0m\u001B[32m1\u001B[0m\u001B[32m}\u001B[0m\u001B[32m{\u001B[0m\u001B[32m21\u001B[0m\u001B[32m}\u001B[0m\u001B[32m '\u001B[0m, \u001B[32m'link'\u001B[0m: \u001B[3;35mNone\u001B[0m\u001B[1m}\u001B[0m\u001B[1m}\u001B[0m\n                \u001B[1m]\u001B[0m\n            \u001B[1m}\u001B[0m\n        \u001B[1m}\u001B[0m,\n        \u001B[1m{\u001B[0m\n            \u001B[32m'object'\u001B[0m: \u001B[32m'block'\u001B[0m,\n            \u001B[32m'id'\u001B[0m: \u001B[32m'27ca6edc-4d65-4b4c-a9f8-7d4513c5e6c7'\u001B[0m,\n            \u001B[32m'type'\u001B[0m: \u001B[32m'paragraph'\u001B[0m,\n            \u001B[32m'paragraph'\u001B[0m: \u001B[1m{\u001B[0m\n                \u001B[32m'text'\u001B[0m: \u001B[1m[\u001B[0m\n                    \u001B[1m{\u001B[0m\u001B[32m'type'\u001B[0m: \u001B[32m'text'\u001B[0m, \u001B[32m'text'\u001B[0m: \u001B[1m{\u001B[0m\u001B[32m'content'\u001B[0m: \u001B[32m' P\u001B[0m\u001B[32m(\u001B[0m\u001B[32m0 \\\\leq X \\\\leq 5\u001B[0m\u001B[32m)\u001B[0m\u001B[32m = \\\\frac\u001B[0m\u001B[32m{\u001B[0m\u001B[32m1\u001B[0m\u001B[32m}\u001B[0m\u001B[32m{\u001B[0m\u001B[32m35\u001B[0m\u001B[32m}\u001B[0m\u001B[32m '\u001B[0m, \u001B[32m'link'\u001B[0m: \u001B[3;35mNone\u001B[0m\u001B[1m}\u001B[0m\u001B[1m}\u001B[0m\n                \u001B[1m]\u001B[0m\n            \u001B[1m}\u001B[0m\n        \u001B[1m}\u001B[0m,\n        \u001B[1m{\u001B[0m\n            \u001B[32m'object'\u001B[0m: \u001B[32m'block'\u001B[0m,\n            \u001B[32m'id'\u001B[0m: \u001B[32m'ade38575-da35-48ef-a828-2314dbe57956'\u001B[0m,\n            \u001B[32m'type'\u001B[0m: \u001B[32m'paragraph'\u001B[0m,\n            \u001B[32m'paragraph'\u001B[0m: \u001B[1m{\u001B[0m\n                \u001B[32m'text'\u001B[0m: \u001B[1m[\u001B[0m\n                    \u001B[1m{\u001B[0m\n                        \u001B[32m'type'\u001B[0m: \u001B[32m'text'\u001B[0m,\n                        \u001B[32m'text'\u001B[0m: \u001B[1m{\u001B[0m\n                            \u001B[32m'content'\u001B[0m: \u001B[32m'What is  P\u001B[0m\u001B[32m(\u001B[0m\u001B[32m90 \\\\leq X \\\\leq 110\u001B[0m\u001B[32m)\u001B[0m\u001B[32m , if  a \\\\leq 3  and  b \\\\geq 10 ?'\u001B[0m,\n                            \u001B[32m'link'\u001B[0m: \u001B[3;35mNone\u001B[0m\n                        \u001B[1m}\u001B[0m\n                    \u001B[1m}\u001B[0m\n                \u001B[1m]\u001B[0m\n            \u001B[1m}\u001B[0m\n        \u001B[1m}\u001B[0m\n    \u001B[1m]\u001B[0m,\n    \u001B[32m'next_cursor'\u001B[0m: \u001B[3;35mNone\u001B[0m,\n    \u001B[32m'has_more'\u001B[0m: \u001B[3;91mFalse\u001B[0m,\n    \u001B[32m'type'\u001B[0m: \u001B[32m'block'\u001B[0m,\n    \u001B[32m'block'\u001B[0m: \u001B[1m{\u001B[0m\u001B[1m}\u001B[0m,\n    \u001B[32m'request_id'\u001B[0m: \u001B[32m'ef02785b-98f3-4a5a-a64d-dfd96dd676e2'\u001B[0m\n\u001B[1m}\u001B[0m\n",
      "text/html": "<pre style=\"white-space:pre;overflow-x:auto;line-height:normal;font-family:Menlo,'DejaVu Sans Mono',consolas,'Courier New',monospace\"><span style=\"font-weight: bold\">{</span>\n    <span style=\"color: #008000; text-decoration-color: #008000\">'object'</span>: <span style=\"color: #008000; text-decoration-color: #008000\">'list'</span>,\n    <span style=\"color: #008000; text-decoration-color: #008000\">'results'</span>: <span style=\"font-weight: bold\">[</span>\n        <span style=\"font-weight: bold\">{</span>\n            <span style=\"color: #008000; text-decoration-color: #008000\">'object'</span>: <span style=\"color: #008000; text-decoration-color: #008000\">'block'</span>,\n            <span style=\"color: #008000; text-decoration-color: #008000\">'id'</span>: <span style=\"color: #008000; text-decoration-color: #008000\">'caf895c8-c73c-4e25-8a42-087b37630a2c'</span>,\n            <span style=\"color: #008000; text-decoration-color: #008000\">'type'</span>: <span style=\"color: #008000; text-decoration-color: #008000\">'paragraph'</span>,\n            <span style=\"color: #008000; text-decoration-color: #008000\">'paragraph'</span>: <span style=\"font-weight: bold\">{</span>\n                <span style=\"color: #008000; text-decoration-color: #008000\">'text'</span>: <span style=\"font-weight: bold\">[</span>\n                    <span style=\"font-weight: bold\">{</span>\n                        <span style=\"color: #008000; text-decoration-color: #008000\">'type'</span>: <span style=\"color: #008000; text-decoration-color: #008000\">'text'</span>,\n                        <span style=\"color: #008000; text-decoration-color: #008000\">'text'</span>: <span style=\"font-weight: bold\">{</span>\n                            <span style=\"color: #008000; text-decoration-color: #008000\">'content'</span>: <span style=\"color: #008000; text-decoration-color: #008000\">'Given an uniformly-distributed random variable  X  that takes only integers</span>\n<span style=\"color: #008000; text-decoration-color: #008000\">from  a  to  b  inclusive and'</span>,\n                            <span style=\"color: #008000; text-decoration-color: #008000\">'link'</span>: <span style=\"color: #800080; text-decoration-color: #800080; font-style: italic\">None</span>\n                        <span style=\"font-weight: bold\">}</span>\n                    <span style=\"font-weight: bold\">}</span>\n                <span style=\"font-weight: bold\">]</span>\n            <span style=\"font-weight: bold\">}</span>\n        <span style=\"font-weight: bold\">}</span>,\n        <span style=\"font-weight: bold\">{</span>\n            <span style=\"color: #008000; text-decoration-color: #008000\">'object'</span>: <span style=\"color: #008000; text-decoration-color: #008000\">'block'</span>,\n            <span style=\"color: #008000; text-decoration-color: #008000\">'id'</span>: <span style=\"color: #008000; text-decoration-color: #008000\">'c5df8a8f-cd4b-4c82-a829-143d85353ece'</span>,\n            <span style=\"color: #008000; text-decoration-color: #008000\">'type'</span>: <span style=\"color: #008000; text-decoration-color: #008000\">'paragraph'</span>,\n            <span style=\"color: #008000; text-decoration-color: #008000\">'paragraph'</span>: <span style=\"font-weight: bold\">{</span>\n                <span style=\"color: #008000; text-decoration-color: #008000\">'text'</span>: <span style=\"font-weight: bold\">[</span>\n                    <span style=\"font-weight: bold\">{</span><span style=\"color: #008000; text-decoration-color: #008000\">'type'</span>: <span style=\"color: #008000; text-decoration-color: #008000\">'text'</span>, <span style=\"color: #008000; text-decoration-color: #008000\">'text'</span>: <span style=\"font-weight: bold\">{</span><span style=\"color: #008000; text-decoration-color: #008000\">'content'</span>: <span style=\"color: #008000; text-decoration-color: #008000\">' P(3 \\\\leq X \\\\leq 7) = \\\\frac{1}{21} '</span>, <span style=\"color: #008000; text-decoration-color: #008000\">'link'</span>: <span style=\"color: #800080; text-decoration-color: #800080; font-style: italic\">None</span><span style=\"font-weight: bold\">}}</span>\n                <span style=\"font-weight: bold\">]</span>\n            <span style=\"font-weight: bold\">}</span>\n        <span style=\"font-weight: bold\">}</span>,\n        <span style=\"font-weight: bold\">{</span>\n            <span style=\"color: #008000; text-decoration-color: #008000\">'object'</span>: <span style=\"color: #008000; text-decoration-color: #008000\">'block'</span>,\n            <span style=\"color: #008000; text-decoration-color: #008000\">'id'</span>: <span style=\"color: #008000; text-decoration-color: #008000\">'27ca6edc-4d65-4b4c-a9f8-7d4513c5e6c7'</span>,\n            <span style=\"color: #008000; text-decoration-color: #008000\">'type'</span>: <span style=\"color: #008000; text-decoration-color: #008000\">'paragraph'</span>,\n            <span style=\"color: #008000; text-decoration-color: #008000\">'paragraph'</span>: <span style=\"font-weight: bold\">{</span>\n                <span style=\"color: #008000; text-decoration-color: #008000\">'text'</span>: <span style=\"font-weight: bold\">[</span>\n                    <span style=\"font-weight: bold\">{</span><span style=\"color: #008000; text-decoration-color: #008000\">'type'</span>: <span style=\"color: #008000; text-decoration-color: #008000\">'text'</span>, <span style=\"color: #008000; text-decoration-color: #008000\">'text'</span>: <span style=\"font-weight: bold\">{</span><span style=\"color: #008000; text-decoration-color: #008000\">'content'</span>: <span style=\"color: #008000; text-decoration-color: #008000\">' P(0 \\\\leq X \\\\leq 5) = \\\\frac{1}{35} '</span>, <span style=\"color: #008000; text-decoration-color: #008000\">'link'</span>: <span style=\"color: #800080; text-decoration-color: #800080; font-style: italic\">None</span><span style=\"font-weight: bold\">}}</span>\n                <span style=\"font-weight: bold\">]</span>\n            <span style=\"font-weight: bold\">}</span>\n        <span style=\"font-weight: bold\">}</span>,\n        <span style=\"font-weight: bold\">{</span>\n            <span style=\"color: #008000; text-decoration-color: #008000\">'object'</span>: <span style=\"color: #008000; text-decoration-color: #008000\">'block'</span>,\n            <span style=\"color: #008000; text-decoration-color: #008000\">'id'</span>: <span style=\"color: #008000; text-decoration-color: #008000\">'ade38575-da35-48ef-a828-2314dbe57956'</span>,\n            <span style=\"color: #008000; text-decoration-color: #008000\">'type'</span>: <span style=\"color: #008000; text-decoration-color: #008000\">'paragraph'</span>,\n            <span style=\"color: #008000; text-decoration-color: #008000\">'paragraph'</span>: <span style=\"font-weight: bold\">{</span>\n                <span style=\"color: #008000; text-decoration-color: #008000\">'text'</span>: <span style=\"font-weight: bold\">[</span>\n                    <span style=\"font-weight: bold\">{</span>\n                        <span style=\"color: #008000; text-decoration-color: #008000\">'type'</span>: <span style=\"color: #008000; text-decoration-color: #008000\">'text'</span>,\n                        <span style=\"color: #008000; text-decoration-color: #008000\">'text'</span>: <span style=\"font-weight: bold\">{</span>\n                            <span style=\"color: #008000; text-decoration-color: #008000\">'content'</span>: <span style=\"color: #008000; text-decoration-color: #008000\">'What is  P(90 \\\\leq X \\\\leq 110) , if  a \\\\leq 3  and  b \\\\geq 10 ?'</span>,\n                            <span style=\"color: #008000; text-decoration-color: #008000\">'link'</span>: <span style=\"color: #800080; text-decoration-color: #800080; font-style: italic\">None</span>\n                        <span style=\"font-weight: bold\">}</span>\n                    <span style=\"font-weight: bold\">}</span>\n                <span style=\"font-weight: bold\">]</span>\n            <span style=\"font-weight: bold\">}</span>\n        <span style=\"font-weight: bold\">}</span>\n    <span style=\"font-weight: bold\">]</span>,\n    <span style=\"color: #008000; text-decoration-color: #008000\">'next_cursor'</span>: <span style=\"color: #800080; text-decoration-color: #800080; font-style: italic\">None</span>,\n    <span style=\"color: #008000; text-decoration-color: #008000\">'has_more'</span>: <span style=\"color: #ff0000; text-decoration-color: #ff0000; font-style: italic\">False</span>,\n    <span style=\"color: #008000; text-decoration-color: #008000\">'type'</span>: <span style=\"color: #008000; text-decoration-color: #008000\">'block'</span>,\n    <span style=\"color: #008000; text-decoration-color: #008000\">'block'</span>: <span style=\"font-weight: bold\">{}</span>,\n    <span style=\"color: #008000; text-decoration-color: #008000\">'request_id'</span>: <span style=\"color: #008000; text-decoration-color: #008000\">'ef02785b-98f3-4a5a-a64d-dfd96dd676e2'</span>\n<span style=\"font-weight: bold\">}</span>\n</pre>\n"
     },
     "metadata": {},
     "output_type": "display_data"
    }
   ],
   "source": [
    "prettyprint(test_output)"
   ],
   "metadata": {
    "collapsed": false,
    "ExecuteTime": {
     "end_time": "2023-12-08T19:01:13.264166Z",
     "start_time": "2023-12-08T19:01:13.257327Z"
    }
   },
   "id": "47f1380143992e42"
  }
 ],
 "metadata": {
  "kernelspec": {
   "display_name": "Python 3",
   "language": "python",
   "name": "python3"
  },
  "language_info": {
   "codemirror_mode": {
    "name": "ipython",
    "version": 2
   },
   "file_extension": ".py",
   "mimetype": "text/x-python",
   "name": "python",
   "nbconvert_exporter": "python",
   "pygments_lexer": "ipython2",
   "version": "2.7.6"
  }
 },
 "nbformat": 4,
 "nbformat_minor": 5
}
