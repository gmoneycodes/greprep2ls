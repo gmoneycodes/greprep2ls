{
 "cells": [
  {
   "cell_type": "code",
   "execution_count": 5,
   "id": "initial_id",
   "metadata": {
    "collapsed": true,
    "ExecuteTime": {
     "end_time": "2023-12-08T17:44:43.218379Z",
     "start_time": "2023-12-08T17:44:43.209338Z"
    }
   },
   "outputs": [
    {
     "data": {
      "text/plain": "True"
     },
     "execution_count": 5,
     "metadata": {},
     "output_type": "execute_result"
    }
   ],
   "source": [
    "import re\n",
    "\n",
    "from notion_client import Client\n",
    "import os\n",
    "from dotenv import load_dotenv\n",
    "from quant.utils import link2id\n",
    "import pprint\n",
    "from rich import print as prettyprint\n",
    "import uuid\n",
    "load_dotenv()"
   ]
  },
  {
   "cell_type": "code",
   "execution_count": 2,
   "outputs": [],
   "source": [
    "api_key = os.getenv('NOTION_KEY')\n",
    "\n",
    "def fetch_notion_data(token, id):\n",
    "    notion = Client(auth=token)\n",
    "    page_data = notion.blocks.children.list(block_id=id)\n",
    "    return page_data"
   ],
   "metadata": {
    "collapsed": false,
    "ExecuteTime": {
     "end_time": "2023-12-08T16:16:55.454783Z",
     "start_time": "2023-12-08T16:16:55.451824Z"
    }
   },
   "id": "1047058640714aab"
  },
  {
   "cell_type": "code",
   "execution_count": 3,
   "outputs": [],
   "source": [
    "link = \"https://www.notion.so/ruyoga/testing-9dc1cff1b6e14172ab35cb42a1b4bfda?pvs=4\"\n",
    "id = link2id(link)\n",
    "\n",
    "page_data = fetch_notion_data(api_key, id)"
   ],
   "metadata": {
    "collapsed": false,
    "ExecuteTime": {
     "end_time": "2023-12-08T16:16:57.342956Z",
     "start_time": "2023-12-08T16:16:55.456112Z"
    }
   },
   "id": "35f37fdafe698de9"
  },
  {
   "cell_type": "code",
   "execution_count": null,
   "outputs": [],
   "source": [
    "def gen_block_id(expression):\n",
    "    return str(uuid.uuid4())\n",
    "\n",
    "def parse_text_to_json(text):\n",
    "    blocks = []\n",
    "    \n",
    "    # split string into paragraphs\n",
    "    paragraphs = text.split('\\n\\n')\n",
    "    for paragraph in paragraphs:\n",
    "        if re.fullmatch(r'\\\\\\[(.*?\\\\\\])', paragraph.strip()):\n",
    "            blocks.append(create_equation_block(paragraph.strip()[2:-2]))\n",
    "        else:\n",
    "            # Split the paragraph into text and inline equations\n",
    "            parts = re.split(r'(\\\\\\[(.*?)\\\\\\])', paragraph)\n",
    "            rich_text = []\n",
    "            for part in parts:\n",
    "                if part:\n",
    "                    if re.fullmatch(r'\\\\\\[(.*?)\\\\\\]', part):\n",
    "                        rich_text.append(create_equation_inline(part[2:-2]))\n",
    "                    else:\n",
    "                        rich_text.append(create_text(part))\n",
    "            if rich_text:\n",
    "                blocks.append(create_paragraph_block(rich_text))\n",
    "\n",
    "    return {\n",
    "        'object': 'list',\n",
    "        'results': blocks,\n",
    "        'next_cursor': None,\n",
    "        'has_more': False,\n",
    "        'type': 'block',\n",
    "        'block': {},\n",
    "        'request_id': generate_block_id()\n",
    "    }"
   ],
   "metadata": {
    "collapsed": false
   },
   "id": "4d434cf9d31b91c2"
  },
  {
   "cell_type": "code",
   "execution_count": 7,
   "outputs": [],
   "source": [
    "def create_equation_inline(expression: str):\n",
    "    \"\"\"\n",
    "    :param expression: math expression (katex) \n",
    "    :return: json\n",
    "    \"\"\"\n",
    "    return {\n",
    "        'type': 'equation',\n",
    "        'equation': {\n",
    "            'expression': expression\n",
    "        },\n",
    "        'annotations': {\n",
    "            'bold': False,\n",
    "            'italic': False,\n",
    "            'strikethrough': False,\n",
    "            'underline': False,\n",
    "            'code': False,\n",
    "            'color': 'default'\n",
    "        },\n",
    "        'plain_text': expression,\n",
    "        'href': None\n",
    "    }\n",
    "\n",
    "def create_text(content):\n",
    "    return {\n",
    "        'type': 'text',\n",
    "        'text': {\n",
    "            'content': content,\n",
    "            'link': None\n",
    "        },\n",
    "        'annotations': {\n",
    "            'bold': False,\n",
    "            'italic': False,\n",
    "            'strikethrough': False,\n",
    "            'underline': False,\n",
    "            'code': False,\n",
    "            'color': 'default'\n",
    "        },\n",
    "        'plain_text': content,\n",
    "        'href': None\n",
    "    }\n",
    "\n",
    "def create_equation_block(expression):\n",
    "    return {\n",
    "        'object': 'block',\n",
    "        'id': generate_block_id(),\n",
    "        'parent': {'type': 'page_id', 'page_id': '9dc1cff1-b6e1-4172-ab35-cb42a1b4bfda'},\n",
    "        'created_time': '2023-12-08T15:54:00.000Z',\n",
    "        'last_edited_time': '2023-12-08T15:55:00.000Z',\n",
    "        'created_by': {'object': 'user', 'id': '97eafb56-9524-418d-a834-2e879d8199fb'},\n",
    "        'last_edited_by': {'object': 'user', 'id': '97eafb56-9524-418d-a834-2e879d8199fb'},\n",
    "        'has_children': False,\n",
    "        'archived': False,\n",
    "        'type': 'equation',\n",
    "        'equation': {'expression': expression}\n",
    "    }\n",
    "\n",
    "def create_paragraph_block(rich_text):\n",
    "    return {\n",
    "        'object': 'block',\n",
    "        'id': generate_block_id(),\n",
    "        'parent': {'type': 'page_id', 'page_id': '9dc1cff1-b6e1-4172-ab35-cb42a1b4bfda'},\n",
    "        'created_time': '2023-12-08T15:54:00.000Z',\n",
    "        'last_edited_time': '2023-12-08T15:55:00.000Z',\n",
    "        'created_by': {'object': 'user', 'id': '97eafb56-9524-418d-a834-2e879d8199fb'},\n",
    "        'last_edited_by': {'object': 'user', 'id': '97eafb56-9524-418d-a834-2e879d8199fb'},\n",
    "        'has_children': False,\n",
    "        'archived': False,\n",
    "        'type': 'paragraph',\n",
    "        'paragraph': {'rich_text': rich_text, 'color': 'default'}\n",
    "    }"
   ],
   "metadata": {
    "collapsed": false,
    "ExecuteTime": {
     "end_time": "2023-12-08T17:55:05.761544Z",
     "start_time": "2023-12-08T17:55:05.760174Z"
    }
   },
   "id": "356803f5232082e5"
  },
  {
   "cell_type": "code",
   "execution_count": 6,
   "outputs": [],
   "source": [],
   "metadata": {
    "collapsed": false,
    "ExecuteTime": {
     "end_time": "2023-12-08T17:50:02.866361Z",
     "start_time": "2023-12-08T17:50:02.860710Z"
    }
   },
   "id": "cb00088a506df8a0"
  },
  {
   "cell_type": "code",
   "execution_count": null,
   "outputs": [],
   "source": [],
   "metadata": {
    "collapsed": false
   },
   "id": "36c699a941a85158"
  }
 ],
 "metadata": {
  "kernelspec": {
   "display_name": "Python 3",
   "language": "python",
   "name": "python3"
  },
  "language_info": {
   "codemirror_mode": {
    "name": "ipython",
    "version": 2
   },
   "file_extension": ".py",
   "mimetype": "text/x-python",
   "name": "python",
   "nbconvert_exporter": "python",
   "pygments_lexer": "ipython2",
   "version": "2.7.6"
  }
 },
 "nbformat": 4,
 "nbformat_minor": 5
}
