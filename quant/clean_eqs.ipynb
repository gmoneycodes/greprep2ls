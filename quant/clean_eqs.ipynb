{
 "cells": [
  {
   "cell_type": "code",
   "execution_count": 7,
   "outputs": [],
   "source": [
    "import subprocess\n",
    "invalid_strs = [r\"\\(\", r\"\\[\", r\"\\)\", r\"\\]\"]"
   ],
   "metadata": {
    "collapsed": false,
    "ExecuteTime": {
     "end_time": "2023-12-08T15:54:45.007492Z",
     "start_time": "2023-12-08T15:54:45.006026Z"
    }
   },
   "id": "c6afff76c1402efe"
  },
  {
   "cell_type": "code",
   "execution_count": 8,
   "id": "initial_id",
   "metadata": {
    "collapsed": true,
    "ExecuteTime": {
     "end_time": "2023-12-08T15:54:46.866244Z",
     "start_time": "2023-12-08T15:54:46.865048Z"
    }
   },
   "outputs": [],
   "source": [
    "text = r\"\"\"\n",
    "Given an uniformly-distributed random variable \\( X \\) that takes only integers from \\( a \\) to \\( b \\) inclusive and\n",
    "\n",
    "\\[ P(3 \\leq X \\leq 7) = \\frac{1}{21} \\]\n",
    "\n",
    "\\[ P(0 \\leq X \\leq 5) = \\frac{1}{35} \\]\n",
    "\n",
    "What is \\( P(90 \\leq X \\leq 110) \\), if \\( a \\leq 3 \\) and \\( b \\geq 10 \\)?\n",
    "\n",
    "\"\"\""
   ]
  },
  {
   "cell_type": "code",
   "execution_count": 9,
   "outputs": [],
   "source": [
    "for invalid in invalid_strs:\n",
    "    text = text.replace(invalid, \"\")"
   ],
   "metadata": {
    "collapsed": false,
    "ExecuteTime": {
     "end_time": "2023-12-08T15:54:51.497726Z",
     "start_time": "2023-12-08T15:54:51.495902Z"
    }
   },
   "id": "33847a59a5c9afb9"
  },
  {
   "cell_type": "code",
   "execution_count": 10,
   "outputs": [
    {
     "data": {
      "text/plain": "CompletedProcess(args='pbcopy', returncode=0)"
     },
     "execution_count": 10,
     "metadata": {},
     "output_type": "execute_result"
    }
   ],
   "source": [
    "subprocess.run(\"pbcopy\", text=True, input=text)"
   ],
   "metadata": {
    "collapsed": false,
    "ExecuteTime": {
     "end_time": "2023-12-08T15:54:54.217565Z",
     "start_time": "2023-12-08T15:54:54.198589Z"
    }
   },
   "id": "6d6764de78d9767a"
  },
  {
   "cell_type": "code",
   "execution_count": 5,
   "outputs": [],
   "source": [
    "def link2id(link):\n",
    "    l = link.split(\"-\")[-1].split(\"?\")[0]\n",
    "    indices = [8, 12, 16, 20]\n",
    "    parts = [l[i:j] for i, j in zip([0] + indices, indices + [None])]\n",
    "    return \"-\".join(parts)"
   ],
   "metadata": {
    "collapsed": false,
    "ExecuteTime": {
     "end_time": "2023-12-08T15:37:35.952556Z",
     "start_time": "2023-12-08T15:37:35.949036Z"
    }
   },
   "id": "7c388edf5bab94c2"
  }
 ],
 "metadata": {
  "kernelspec": {
   "display_name": "Python 3",
   "language": "python",
   "name": "python3"
  },
  "language_info": {
   "codemirror_mode": {
    "name": "ipython",
    "version": 2
   },
   "file_extension": ".py",
   "mimetype": "text/x-python",
   "name": "python",
   "nbconvert_exporter": "python",
   "pygments_lexer": "ipython2",
   "version": "2.7.6"
  }
 },
 "nbformat": 4,
 "nbformat_minor": 5
}
