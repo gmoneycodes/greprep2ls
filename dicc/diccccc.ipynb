{
 "cells": [
  {
   "cell_type": "code",
   "execution_count": 3,
   "id": "initial_id",
   "metadata": {
    "collapsed": true,
    "ExecuteTime": {
     "end_time": "2023-12-07T18:24:52.843395Z",
     "start_time": "2023-12-07T18:24:52.841347Z"
    }
   },
   "outputs": [],
   "source": [
    "from pathlib import Path\n",
    "import itertools\n",
    "import zlib"
   ]
  },
  {
   "cell_type": "code",
   "execution_count": 4,
   "outputs": [],
   "source": [
    "fp = Path(\"/System/Library/AssetsV2/com_apple_MobileAsset_DictionaryServices_dictionaryOSX/2b73221a368486245eff5d6ce1354f11c69dedb5.asset/AssetData/Oxford Dictionary of English.di)ctionary/Contents/Resources\")"
   ],
   "metadata": {
    "collapsed": false,
    "ExecuteTime": {
     "end_time": "2023-12-07T18:24:53.794854Z",
     "start_time": "2023-12-07T18:24:53.793141Z"
    }
   },
   "id": "9b7d7a3c9cd494de"
  },
  {
   "cell_type": "code",
   "execution_count": 6,
   "outputs": [
    {
     "ename": "SyntaxError",
     "evalue": "expected ':' (1583223312.py, line 1)",
     "output_type": "error",
     "traceback": [
      "\u001B[0;36m  Cell \u001B[0;32mIn[6], line 1\u001B[0;36m\u001B[0m\n\u001B[0;31m    with open(fp, 'rb') as f\u001B[0m\n\u001B[0m                            ^\u001B[0m\n\u001B[0;31mSyntaxError\u001B[0m\u001B[0;31m:\u001B[0m expected ':'\n"
     ]
    }
   ],
   "source": [
    "with open(fp, 'rb') as f:\n",
    "    bytes = f.read()\n",
    "    "
   ],
   "metadata": {
    "collapsed": false,
    "ExecuteTime": {
     "end_time": "2023-12-07T18:25:43.043999Z",
     "start_time": "2023-12-07T18:25:43.039689Z"
    }
   },
   "id": "a728386dcffde797"
  },
  {
   "cell_type": "code",
   "execution_count": null,
   "outputs": [],
   "source": [],
   "metadata": {
    "collapsed": false
   },
   "id": "9a65c5b24782540a"
  }
 ],
 "metadata": {
  "kernelspec": {
   "display_name": "Python 3",
   "language": "python",
   "name": "python3"
  },
  "language_info": {
   "codemirror_mode": {
    "name": "ipython",
    "version": 2
   },
   "file_extension": ".py",
   "mimetype": "text/x-python",
   "name": "python",
   "nbconvert_exporter": "python",
   "pygments_lexer": "ipython2",
   "version": "2.7.6"
  }
 },
 "nbformat": 4,
 "nbformat_minor": 5
}
