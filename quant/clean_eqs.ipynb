{
 "cells": [
  {
   "cell_type": "code",
   "execution_count": 23,
   "outputs": [],
   "source": [
    "import subprocess\n",
    "invalid_strs = [r\"\\(\", r\"\\[\", r\"\\)\", r\"\\]\",]"
   ],
   "metadata": {
    "collapsed": false,
    "ExecuteTime": {
     "end_time": "2023-12-08T14:37:11.824355Z",
     "start_time": "2023-12-08T14:37:11.822709Z"
    }
   },
   "id": "c6afff76c1402efe"
  },
  {
   "cell_type": "code",
   "execution_count": 24,
   "id": "initial_id",
   "metadata": {
    "collapsed": true,
    "ExecuteTime": {
     "end_time": "2023-12-08T14:37:20.536048Z",
     "start_time": "2023-12-08T14:37:20.534390Z"
    }
   },
   "outputs": [],
   "source": [
    "text = r\"\"\"\n",
    "In solving problems involving uniformly-distributed discrete random variables, the important formula to remember is that the probability of any single value is 1 divided by the number of possible values. \n",
    "\n",
    "For a uniformly-distributed random variable \\( X \\) that takes on values from \\( a \\) to \\( b \\) inclusive, the number of possible values is \\( (b - a + 1) \\). Therefore, the probability of \\( X \\) taking on any single value is:\n",
    "\"\"\""
   ]
  },
  {
   "cell_type": "code",
   "execution_count": 25,
   "outputs": [],
   "source": [
    "for invalid in invalid_strs:\n",
    "    text = text.replace(invalid, \"\")"
   ],
   "metadata": {
    "collapsed": false,
    "ExecuteTime": {
     "end_time": "2023-12-08T14:37:22.410649Z",
     "start_time": "2023-12-08T14:37:22.409314Z"
    }
   },
   "id": "33847a59a5c9afb9"
  },
  {
   "cell_type": "code",
   "execution_count": 26,
   "outputs": [
    {
     "data": {
      "text/plain": "CompletedProcess(args='pbcopy', returncode=0)"
     },
     "execution_count": 26,
     "metadata": {},
     "output_type": "execute_result"
    }
   ],
   "source": [
    "subprocess.run(\"pbcopy\", text=True, input=text)"
   ],
   "metadata": {
    "collapsed": false,
    "ExecuteTime": {
     "end_time": "2023-12-08T14:37:28.135233Z",
     "start_time": "2023-12-08T14:37:28.113657Z"
    }
   },
   "id": "6d6764de78d9767a"
  }
 ],
 "metadata": {
  "kernelspec": {
   "display_name": "Python 3",
   "language": "python",
   "name": "python3"
  },
  "language_info": {
   "codemirror_mode": {
    "name": "ipython",
    "version": 2
   },
   "file_extension": ".py",
   "mimetype": "text/x-python",
   "name": "python",
   "nbconvert_exporter": "python",
   "pygments_lexer": "ipython2",
   "version": "2.7.6"
  }
 },
 "nbformat": 4,
 "nbformat_minor": 5
}
